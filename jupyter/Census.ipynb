{
 "cells": [
  {
   "cell_type": "code",
   "execution_count": null,
   "metadata": {
    "collapsed": false,
    "slideshow": {
     "slide_type": "slide"
    }
   },
   "outputs": [],
   "source": [
    "import pandas as pd\n",
    "import numpy as np\n",
    "from sklearn.linear_model import LinearRegression\n",
    "from sklearn import cross_validation\n",
    "from sklearn.metrics import accuracy_score\n",
    "from sklearn.ensemble import RandomForestClassifier"
   ]
  },
  {
   "cell_type": "code",
   "execution_count": null,
   "metadata": {
    "collapsed": true,
    "slideshow": {
     "slide_type": "slide"
    }
   },
   "outputs": [],
   "source": [
    "ds = pd.read_csv(\"../data/census-us.csv\")"
   ]
  },
  {
   "cell_type": "code",
   "execution_count": null,
   "metadata": {
    "collapsed": false,
    "slideshow": {
     "slide_type": "slide"
    }
   },
   "outputs": [],
   "source": [
    "ds.describe()"
   ]
  },
  {
   "cell_type": "code",
   "execution_count": null,
   "metadata": {
    "collapsed": false,
    "scrolled": true,
    "slideshow": {
     "slide_type": "slide"
    }
   },
   "outputs": [],
   "source": [
    "ds.dtypes"
   ]
  },
  {
   "cell_type": "code",
   "execution_count": null,
   "metadata": {
    "collapsed": false,
    "slideshow": {
     "slide_type": "slide"
    }
   },
   "outputs": [],
   "source": [
    "ds[\"workclass\"].unique()"
   ]
  },
  {
   "cell_type": "code",
   "execution_count": null,
   "metadata": {
    "collapsed": true
   },
   "outputs": [],
   "source": [
    "values = ds[\"workclass\"].unique()\n",
    "encoded_value = 0\n",
    "for value in values:\n",
    "    ds.loc[ds[\"workclass\"] == value, \"xxx_encoded_workclass\"] = encoded_value\n",
    "    encoded_value = encoded_value + 1"
   ]
  },
  {
   "cell_type": "code",
   "execution_count": null,
   "metadata": {
    "collapsed": false
   },
   "outputs": [],
   "source": [
    "ds.dtypes"
   ]
  },
  {
   "cell_type": "code",
   "execution_count": null,
   "metadata": {
    "collapsed": false
   },
   "outputs": [],
   "source": [
    "ds[\"xxx_encoded_workclass\"].unique()"
   ]
  },
  {
   "cell_type": "code",
   "execution_count": null,
   "metadata": {
    "collapsed": false
   },
   "outputs": [],
   "source": [
    "print(ds.describe())"
   ]
  },
  {
   "cell_type": "code",
   "execution_count": null,
   "metadata": {
    "collapsed": false
   },
   "outputs": [],
   "source": [
    "ds.dtypes"
   ]
  },
  {
   "cell_type": "code",
   "execution_count": null,
   "metadata": {
    "collapsed": true
   },
   "outputs": [],
   "source": [
    "def get_encoded_variable_name(variable_name):\n",
    "    encoded_variable_name = \"___\" + \"encoded\" + \"_\" + variable_name\n",
    "    return encoded_variable_name\n",
    "\n",
    "def encode_variable(variable_name):\n",
    "    encoded_variable_name = get_encoded_variable_name(variable_name)\n",
    "  \n",
    "    # Uses the \"ordinal\" of the variable values as the encoded form for the nominal variable\n",
    "    values = ds[variable_name].unique()\n",
    "    encoded_value = 0\n",
    "    for value in values:\n",
    "        ds.loc[ds[variable_name] == value, encoded_variable_name] = encoded_value\n",
    "        encoded_value += 1"
   ]
  },
  {
   "cell_type": "code",
   "execution_count": null,
   "metadata": {
    "collapsed": true
   },
   "outputs": [],
   "source": [
    "nominal_variables = [\"workclass\",\"education\",\"marital-status\",\"occupation\",\"relationship\",\"race\",\"sex\",\"native-country\"]"
   ]
  },
  {
   "cell_type": "code",
   "execution_count": null,
   "metadata": {
    "collapsed": false
   },
   "outputs": [],
   "source": [
    "for nominal_variable in nominal_variables:\n",
    "    encode_variable(nominal_variable)"
   ]
  },
  {
   "cell_type": "code",
   "execution_count": null,
   "metadata": {
    "collapsed": false
   },
   "outputs": [],
   "source": [
    "ds.describe()"
   ]
  },
  {
   "cell_type": "code",
   "execution_count": null,
   "metadata": {
    "collapsed": true
   },
   "outputs": [],
   "source": [
    "numerical_variables = [\"age\",\"fnlwgt\", \"education-num\", \"capital-gain\", \"capital-loss\", \"hours-per-week\"]"
   ]
  },
  {
   "cell_type": "code",
   "execution_count": null,
   "metadata": {
    "collapsed": true
   },
   "outputs": [],
   "source": [
    "target_variable = \"class\""
   ]
  },
  {
   "cell_type": "code",
   "execution_count": null,
   "metadata": {
    "collapsed": false
   },
   "outputs": [],
   "source": [
    "all_variables = numerical_variables + list(map(get_encoded_variable_name, nominal_variables))"
   ]
  },
  {
   "cell_type": "code",
   "execution_count": null,
   "metadata": {
    "collapsed": false
   },
   "outputs": [],
   "source": [
    "split = cross_validation.ShuffleSplit(ds.shape[0], n_iter=1, random_state=1, test_size=.33)"
   ]
  },
  {
   "cell_type": "code",
   "execution_count": null,
   "metadata": {
    "collapsed": false
   },
   "outputs": [],
   "source": [
    "for estimation, validation in split:\n",
    "    print(\"Estimation: {}\".format(estimation))\n",
    "    print(\"Validation: {}\".format(validation))"
   ]
  },
  {
   "cell_type": "code",
   "execution_count": null,
   "metadata": {
    "collapsed": false
   },
   "outputs": [],
   "source": [
    "algorithm = LinearRegression()"
   ]
  },
  {
   "cell_type": "code",
   "execution_count": null,
   "metadata": {
    "collapsed": false
   },
   "outputs": [],
   "source": [
    "for estimation_indices, validation_indices in split:\n",
    "    print(\"=============================================================================\")\n",
    "    print(\"Estimation variable: {}\".format(ds[all_variables].iloc[estimation_indices,:]))\n",
    "    print(\"Estimation target: {}\".format(ds[target_variable].iloc[estimation_indices]))\n",
    "    print(\"=============================================================================\")\n",
    "    print(\"Validation variables: {}\".format(ds[all_variables].iloc[validation_indices,:]))\n",
    "    print(\"Validation target: {}\".format(ds[target_variable].iloc[validation_indices]))\n",
    "    print(\"=============================================================================\")\n",
    "    "
   ]
  },
  {
   "cell_type": "code",
   "execution_count": null,
   "metadata": {
    "collapsed": false
   },
   "outputs": [],
   "source": [
    "    for estimation_indices, validation_indices in split:\n",
    "\n",
    "        #\n",
    "        # Extracts the records based on the split indices\n",
    "        estimation_records = ds[all_variables].iloc[estimation_indices,:]\n",
    "        estimation_target = ds[target_variable].iloc[estimation_indices]\n",
    "\n",
    "        #\n",
    "        # Computes the model\n",
    "        algorithm.fit(estimation_records, estimation_target)\n",
    "\n",
    "        #\n",
    "        # Estimates the model performance by applying it to the validation dataset\n",
    "        validation_predictions = algorithm.predict(ds[all_variables].iloc[validation_indices,:])\n",
    "\n",
    "        validation_predictions[validation_predictions > .5] = 1\n",
    "        validation_predictions[validation_predictions <= .5] = 0\n",
    "        acc = accuracy_score(ds[target_variable].iloc[validation_indices], validation_predictions)\n",
    "        print(\"Accuracy : {}\".format(acc))\n"
   ]
  },
  {
   "cell_type": "code",
   "execution_count": null,
   "metadata": {
    "collapsed": true
   },
   "outputs": [],
   "source": []
  }
 ],
 "metadata": {
  "kernelspec": {
   "display_name": "Python 3",
   "language": "python",
   "name": "python3"
  },
  "language_info": {
   "codemirror_mode": {
    "name": "ipython",
    "version": 3
   },
   "file_extension": ".py",
   "mimetype": "text/x-python",
   "name": "python",
   "nbconvert_exporter": "python",
   "pygments_lexer": "ipython3",
   "version": "3.5.0"
  }
 },
 "nbformat": 4,
 "nbformat_minor": 0
}
